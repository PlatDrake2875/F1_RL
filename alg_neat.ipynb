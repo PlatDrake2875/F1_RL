{
 "cells": [
  {
   "cell_type": "code",
   "execution_count": 1,
   "metadata": {
    "ExecuteTime": {
     "end_time": "2024-02-14T19:51:45.757218400Z",
     "start_time": "2024-02-14T19:51:45.544610400Z"
    }
   },
   "outputs": [
    {
     "name": "stdout",
     "output_type": "stream",
     "text": [
      "pygame 2.5.2 (SDL 2.28.3, Python 3.11.3)\n",
      "Hello from the pygame community. https://www.pygame.org/contribute.html\n"
     ]
    }
   ],
   "source": [
    "import sys\n",
    "\n",
    "import pygame as pg\n",
    "from pygame.locals import *\n",
    "import numpy as np\n",
    "\n",
    "from car import Car\n",
    "from track import Track\n",
    "\n",
    "import neat\n",
    "import math\n",
    "import time\n",
    "import pickle"
   ]
  },
  {
   "cell_type": "code",
   "execution_count": 2,
   "metadata": {
    "ExecuteTime": {
     "end_time": "2024-02-14T19:51:45.758203500Z",
     "start_time": "2024-02-14T19:51:45.754197Z"
    }
   },
   "outputs": [],
   "source": [
    "maps = [\n",
    "    {'name': 'track01', 'file': 'tracks/track01.png', 'x_text': 1920 / 2, 'y_text': 1080 / 2, 'distance_text': 50},\n",
    "    {'name': 'track02', 'file': 'tracks/track02.png', 'x_text': 1716, 'y_text': 400, 'distance_text': 50},\n",
    "    {'name': 'track03', 'file': 'tracks/track03.png', 'x_text': 300, 'y_text': 810, 'distance_text': 50},\n",
    "]"
   ]
  },
  {
   "cell_type": "code",
   "execution_count": 3,
   "metadata": {
    "ExecuteTime": {
     "end_time": "2024-02-14T19:51:45.777882800Z",
     "start_time": "2024-02-14T19:51:45.765755100Z"
    }
   },
   "outputs": [],
   "source": [
    "class NeatCar(Car):\n",
    "    MAX_LENGTH = 200\n",
    "\n",
    "    def __init__(self, car_sprite, pos_x, pos_y, angle, speed, game_map, border_color, map_width, map_height,\n",
    "                 top_start_line, bottom_start_line):\n",
    "        super().__init__(car_sprite, pos_x, pos_y, angle, speed, game_map, border_color, map_width, map_height,\n",
    "                         top_start_line, bottom_start_line)\n",
    "        self.radars = []\n",
    "        self.speed_changes = 0\n",
    "        self.speed_incremental_average = 1\n",
    "        self.angles = []\n",
    "\n",
    "    def get_reward(self):\n",
    "        return self.distance / (Car.CAR_SIZE_X / 2) + self.has_touched_finish() * 10000\n",
    "\n",
    "    def check_radar(self, degree):\n",
    "        def compute_x(_length):\n",
    "            return int(self.center[0] + _length * math.cos(math.radians(360 - (self.angle + degree))))\n",
    "\n",
    "        def compute_y(_length):\n",
    "            return int(self.center[1] + _length * math.sin(math.radians(360 - (self.angle + degree))))\n",
    "\n",
    "        length = 0\n",
    "        x = compute_x(length)\n",
    "        y = compute_y(length)\n",
    "\n",
    "        while not self.is_collision_points(x, y) and length < NeatCar.MAX_LENGTH:\n",
    "            length += 1\n",
    "            x = compute_x(length)\n",
    "            y = compute_y(length)\n",
    "\n",
    "        dist = int(pg.math.Vector2(x, y).distance_to(self.center))\n",
    "        self.radars.append([(x, y), dist])\n",
    "\n",
    "        if degree == 0:\n",
    "            length = 0\n",
    "            x = compute_x(length)\n",
    "            y = compute_y(length)\n",
    "\n",
    "            while not self.is_collision_points(x, y) and length < NeatCar.MAX_LENGTH + 100:\n",
    "                length += 1\n",
    "                x = compute_x(length)\n",
    "                y = compute_y(length)\n",
    "\n",
    "            dist = int(pg.math.Vector2(x, y).distance_to(self.center))\n",
    "            self.radars.append([(x, y), dist])\n",
    "\n",
    "    def draw(self, screen):\n",
    "        super().draw(screen)\n",
    "        for r in self.radars:\n",
    "            pg.draw.line(screen, (0, 255, 0), self.center, r[0], 1)\n",
    "            pg.draw.circle(screen, (0, 255, 0), r[0], 5)\n",
    "\n",
    "    def update(self):\n",
    "        super().update()\n",
    "\n",
    "        self.speed_incremental_average = (self.speed_incremental_average * self.speed_changes + self.speed) / (\n",
    "                self.speed_changes + 1)\n",
    "\n",
    "        self.radars.clear()\n",
    "        for d in range(-90, 120, 30):\n",
    "            self.check_radar(d)\n",
    "\n",
    "    def get_neat_data(self):\n",
    "        return [r[1] // 30 for r in self.radars] if len(self.radars) > 0 else [0, 0, 0, 0, 0, 0, 0, 0]\n"
   ]
  },
  {
   "cell_type": "code",
   "outputs": [],
   "source": [
    "def run_simulation(genomes, config, speed=20, full_screen=False):\n",
    "    # Initialize networks and cars lists to keep track of each genome's neural network and the associated car\n",
    "    networks = []\n",
    "    cars = []\n",
    "\n",
    "    # Initialize Pygame\n",
    "    pg.init()\n",
    "\n",
    "    # Load the current map\n",
    "    global current_map_path\n",
    "    my_track = Track(current_map['file'])\n",
    "\n",
    "    # Set up the display mode based on whether full screen is enabled or not\n",
    "    screen = pg.display.set_mode((my_track.map_width, my_track.map_height),\n",
    "                                 (SCALED | RESIZABLE) if not full_screen else FULLSCREEN)\n",
    "    my_track.load_game_map()  # Load the game map\n",
    "    top_start_line, bottom_start_line = my_track.get_start_line_points()  # Get the start line positions\n",
    "\n",
    "    # Initialize a clock for controlling the frame rate\n",
    "    clock = pg.time.Clock()\n",
    "\n",
    "    # Calculate the starting position and orientation for the cars\n",
    "    start_pos_x, start_pos_y, angle = my_track.start_pos\n",
    "    start_pos_y -= Car.CAR_SIZE_Y // 2  # Adjust starting Y position based on car size\n",
    "\n",
    "    # Initialize each genome and its corresponding neural network and car\n",
    "    for _, g in genomes:\n",
    "        net = neat.nn.FeedForwardNetwork.create(g, config)  # Create a neural network for the genome\n",
    "        networks.append(net)\n",
    "        g.fitness = 0  # Initialize fitness to 0\n",
    "        # Create a car with the specified parameters and add it to the cars list\n",
    "        cars.append(\n",
    "            NeatCar('cars/car2d.png', start_pos_x, start_pos_y, angle, speed, my_track.game_map, my_track.border_color,\n",
    "                    my_track.width, my_track.height, top_start_line, bottom_start_line))\n",
    "\n",
    "    # Increment the generation counter\n",
    "    global current_generation\n",
    "    current_generation += 1\n",
    "\n",
    "    # Set up a timer for the simulation run\n",
    "    timer = time.time()\n",
    "    MAX_TIME = 60  # Maximum time for the simulation in seconds\n",
    "\n",
    "    # Main simulation loop\n",
    "    while True:\n",
    "        # Process Pygame events\n",
    "        for event in pg.event.get():\n",
    "            if event.type == QUIT:\n",
    "                pg.quit()\n",
    "\n",
    "        no_still_alive = 0  # Counter for the number of cars still alive\n",
    "\n",
    "        # Update each car based on its neural network's output\n",
    "        for i, car in enumerate(cars):\n",
    "            output = networks[i].activate(car.get_neat_data())  # Get the neural network's output\n",
    "            choice = output.index(max(output))  # Choose the action with the highest output value\n",
    "\n",
    "            car.move(choice)  # Move the car based on the chosen action\n",
    "\n",
    "            if car.is_alive():  # Check if the car is still alive\n",
    "                no_still_alive += 1\n",
    "                car.update()  # Update the car's state\n",
    "                genomes[i][1].fitness = car.get_reward()  # Update the genome's fitness based on the car's reward\n",
    "\n",
    "        # End the simulation if no cars are alive or the maximum time has been exceeded\n",
    "        if no_still_alive == 0 or time.time() - timer > MAX_TIME:\n",
    "            break\n",
    "\n",
    "        # Draw the game map and all alive cars\n",
    "        screen.blit(my_track.game_map, (0, 0))\n",
    "        for car in cars:\n",
    "            if car.is_alive():\n",
    "                car.draw(screen)\n",
    "\n",
    "        # Display the current generation and the number of cars still alive\n",
    "        display_text(screen, no_still_alive)\n",
    "\n",
    "        # Update the display and maintain the frame rate\n",
    "        pg.display.flip()\n",
    "        clock.tick(60)  # Target 60 frames per second\n",
    "\n",
    "    # Uncomment to quit Pygame when the simulation loop ends\n",
    "    # pg.quit()\n",
    "\n",
    "def display_text(screen, no_still_alive):\n",
    "    # Set up fonts for displaying text\n",
    "    font_generation = pg.font.SysFont(\"Arial\", 30)\n",
    "    font_alive = pg.font.SysFont(\"Arial\", 20)\n",
    "\n",
    "    # Render the text for the current generation and number of cars still alive\n",
    "    text_gen = font_generation.render(\"Generation: \" + str(current_generation), True, (0, 0, 0))\n",
    "    text_gen_rect = text_gen.get_rect()\n",
    "    text_gen_rect.center = (current_map['x_text'], current_map['y_text'])\n",
    "    screen.blit(text_gen, text_gen_rect)\n",
    "\n",
    "    text_alive = font_alive.render(\"Alive: \" + str(no_still_alive), True, (0, 0, 0))\n",
    "    text_alive_rect = text_alive.get_rect()\n",
    "    text_alive_rect.center = (current_map['x_text'], current_map['y_text'] + current_map['distance_text'])\n",
    "    screen.blit(text_alive, text_alive_rect)\n"
   ],
   "metadata": {
    "ExecuteTime": {
     "end_time": "2024-02-14T19:51:45.801492600Z",
     "start_time": "2024-02-14T19:51:45.775539Z"
    }
   },
   "execution_count": 4
  },
  {
   "cell_type": "code",
   "outputs": [
    {
     "name": "stdout",
     "output_type": "stream",
     "text": [
      "\n",
      " ****** Running generation 0 ****** \n"
     ]
    },
    {
     "ename": "error",
     "evalue": "display Surface quit",
     "output_type": "error",
     "traceback": [
      "\u001B[1;31m---------------------------------------------------------------------------\u001B[0m",
      "\u001B[1;31merror\u001B[0m                                     Traceback (most recent call last)",
      "Cell \u001B[1;32mIn[5], line 16\u001B[0m\n\u001B[0;32m     13\u001B[0m stats \u001B[38;5;241m=\u001B[39m neat\u001B[38;5;241m.\u001B[39mStatisticsReporter()\n\u001B[0;32m     14\u001B[0m population\u001B[38;5;241m.\u001B[39madd_reporter(stats)\n\u001B[1;32m---> 16\u001B[0m \u001B[43mpopulation\u001B[49m\u001B[38;5;241;43m.\u001B[39;49m\u001B[43mrun\u001B[49m\u001B[43m(\u001B[49m\u001B[43mrun_simulation\u001B[49m\u001B[43m,\u001B[49m\u001B[43m \u001B[49m\u001B[38;5;241;43m30\u001B[39;49m\u001B[43m)\u001B[49m\n\u001B[0;32m     17\u001B[0m pg\u001B[38;5;241m.\u001B[39mquit()\n\u001B[0;32m     19\u001B[0m \u001B[38;5;28;01mwith\u001B[39;00m \u001B[38;5;28mopen\u001B[39m(\u001B[38;5;124mf\u001B[39m\u001B[38;5;124m'\u001B[39m\u001B[38;5;124malg_neat/best_genome_\u001B[39m\u001B[38;5;132;01m{\u001B[39;00m\u001B[38;5;28mmap\u001B[39m[\u001B[38;5;124m\"\u001B[39m\u001B[38;5;124mname\u001B[39m\u001B[38;5;124m\"\u001B[39m]\u001B[38;5;132;01m}\u001B[39;00m\u001B[38;5;124m.pkl\u001B[39m\u001B[38;5;124m'\u001B[39m, \u001B[38;5;124m'\u001B[39m\u001B[38;5;124mwb\u001B[39m\u001B[38;5;124m'\u001B[39m) \u001B[38;5;28;01mas\u001B[39;00m output:\n",
      "File \u001B[1;32mD:\\PythonProjects\\F1_RL\\venv\\Lib\\site-packages\\neat\\population.py:89\u001B[0m, in \u001B[0;36mPopulation.run\u001B[1;34m(self, fitness_function, n)\u001B[0m\n\u001B[0;32m     86\u001B[0m \u001B[38;5;28mself\u001B[39m\u001B[38;5;241m.\u001B[39mreporters\u001B[38;5;241m.\u001B[39mstart_generation(\u001B[38;5;28mself\u001B[39m\u001B[38;5;241m.\u001B[39mgeneration)\n\u001B[0;32m     88\u001B[0m \u001B[38;5;66;03m# Evaluate all genomes using the user-provided function.\u001B[39;00m\n\u001B[1;32m---> 89\u001B[0m \u001B[43mfitness_function\u001B[49m\u001B[43m(\u001B[49m\u001B[38;5;28;43mlist\u001B[39;49m\u001B[43m(\u001B[49m\u001B[43miteritems\u001B[49m\u001B[43m(\u001B[49m\u001B[38;5;28;43mself\u001B[39;49m\u001B[38;5;241;43m.\u001B[39;49m\u001B[43mpopulation\u001B[49m\u001B[43m)\u001B[49m\u001B[43m)\u001B[49m\u001B[43m,\u001B[49m\u001B[43m \u001B[49m\u001B[38;5;28;43mself\u001B[39;49m\u001B[38;5;241;43m.\u001B[39;49m\u001B[43mconfig\u001B[49m\u001B[43m)\u001B[49m\n\u001B[0;32m     91\u001B[0m \u001B[38;5;66;03m# Gather and report statistics.\u001B[39;00m\n\u001B[0;32m     92\u001B[0m best \u001B[38;5;241m=\u001B[39m \u001B[38;5;28;01mNone\u001B[39;00m\n",
      "Cell \u001B[1;32mIn[4], line 70\u001B[0m, in \u001B[0;36mrun_simulation\u001B[1;34m(genomes, config, speed, full_screen)\u001B[0m\n\u001B[0;32m     67\u001B[0m     \u001B[38;5;28;01mbreak\u001B[39;00m\n\u001B[0;32m     69\u001B[0m \u001B[38;5;66;03m# Draw the game map and all alive cars\u001B[39;00m\n\u001B[1;32m---> 70\u001B[0m \u001B[43mscreen\u001B[49m\u001B[38;5;241;43m.\u001B[39;49m\u001B[43mblit\u001B[49m\u001B[43m(\u001B[49m\u001B[43mmy_track\u001B[49m\u001B[38;5;241;43m.\u001B[39;49m\u001B[43mgame_map\u001B[49m\u001B[43m,\u001B[49m\u001B[43m \u001B[49m\u001B[43m(\u001B[49m\u001B[38;5;241;43m0\u001B[39;49m\u001B[43m,\u001B[49m\u001B[43m \u001B[49m\u001B[38;5;241;43m0\u001B[39;49m\u001B[43m)\u001B[49m\u001B[43m)\u001B[49m\n\u001B[0;32m     71\u001B[0m \u001B[38;5;28;01mfor\u001B[39;00m car \u001B[38;5;129;01min\u001B[39;00m cars:\n\u001B[0;32m     72\u001B[0m     \u001B[38;5;28;01mif\u001B[39;00m car\u001B[38;5;241m.\u001B[39mis_alive():\n",
      "\u001B[1;31merror\u001B[0m: display Surface quit"
     ]
    }
   ],
   "source": [
    "max_fitness = []\n",
    "\n",
    "for map in maps:\n",
    "    current_map = map\n",
    "\n",
    "    current_generation = 0\n",
    "\n",
    "    config = neat.config.Config(neat.DefaultGenome, neat.DefaultReproduction, neat.DefaultSpeciesSet,\n",
    "                                neat.DefaultStagnation, 'alg_neat/neat.config')\n",
    "    population = neat.Population(config)\n",
    "    population.add_reporter(neat.StdOutReporter(True))\n",
    "\n",
    "    stats = neat.StatisticsReporter()\n",
    "    population.add_reporter(stats)\n",
    "\n",
    "    population.run(run_simulation, 30)\n",
    "    pg.quit()\n",
    "\n",
    "    with open(f'alg_neat/best_genome_{map[\"name\"]}.pkl', 'wb') as output:\n",
    "        pickle.dump(population, output, 1)\n",
    "\n",
    "    best_genome = stats.best_genome()\n",
    "    max_fitness.append(best_genome.fitness)\n",
    "\n",
    "print(max_fitness)"
   ],
   "metadata": {
    "collapsed": false,
    "ExecuteTime": {
     "end_time": "2024-02-14T19:51:47.678456Z",
     "start_time": "2024-02-14T19:51:45.783904100Z"
    }
   },
   "execution_count": 5
  },
  {
   "cell_type": "code",
   "outputs": [],
   "source": [
    "for i in range(len(maps)):\n",
    "    current_map = maps[i]\n",
    "    for j in range(len(maps)):\n",
    "        if i == j:\n",
    "            continue\n",
    "\n",
    "        with open(f'alg_neat/best_genome_{maps[j][\"name\"]}.pkl', 'rb') as input:\n",
    "            best_genome = pickle.load(input).best_genome\n",
    "\n",
    "        run_simulation([(1, best_genome)], config, speed=20, full_screen=False)\n",
    "\n",
    "pg.quit()"
   ],
   "metadata": {
    "collapsed": false,
    "ExecuteTime": {
     "start_time": "2024-02-14T19:51:47.674454900Z"
    }
   },
   "execution_count": null
  }
 ],
 "metadata": {
  "kernelspec": {
   "display_name": "venv",
   "language": "python",
   "name": "python3"
  },
  "language_info": {
   "codemirror_mode": {
    "name": "ipython",
    "version": 3
   },
   "file_extension": ".py",
   "mimetype": "text/x-python",
   "name": "python",
   "nbconvert_exporter": "python",
   "pygments_lexer": "ipython3",
   "version": "3.10.12"
  }
 },
 "nbformat": 4,
 "nbformat_minor": 2
}
