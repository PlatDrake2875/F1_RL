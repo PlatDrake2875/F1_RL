{
 "cells": [
  {
   "cell_type": "code",
   "outputs": [
    {
     "name": "stdout",
     "output_type": "stream",
     "text": [
      "pygame 2.5.2 (SDL 2.28.3, Python 3.11.3)\n",
      "Hello from the pygame community. https://www.pygame.org/contribute.html\n"
     ]
    }
   ],
   "source": [
    "import sys\n",
    "\n",
    "import pygame as pg\n",
    "from pygame.locals import *\n",
    "\n",
    "from car import Car\n",
    "from track import Track\n",
    "\n",
    "import neat\n",
    "import math\n",
    "import time"
   ],
   "metadata": {
    "ExecuteTime": {
     "end_time": "2024-02-11T22:03:59.873130400Z",
     "start_time": "2024-02-11T22:03:59.739617200Z"
    }
   },
   "execution_count": 1
  },
  {
   "cell_type": "code",
   "outputs": [],
   "source": [
    "class NeatCar(Car):\n",
    "    MAX_LENGTH = 400\n",
    "\n",
    "    def __init__(self, car_sprite, pos_x, pos_y, angle, speed, game_map, border_color, map_width, map_height):\n",
    "        super().__init__(car_sprite, pos_x, pos_y, angle, speed, game_map, border_color, map_width, map_height)\n",
    "        self.radars = []\n",
    "\n",
    "    def get_reward(self):\n",
    "        return self.distance / (Car.CAR_SIZE_X / 2)\n",
    "        return self.distance / (Car.CAR_SIZE_X / 2) + 1000 / self.time\n",
    "\n",
    "    def check_radar(self, degree):\n",
    "        length = 0\n",
    "        x = int(self.center[0] + length * math.cos(math.radians(360 - (self.angle + degree))))\n",
    "        y = int(self.center[1] + length * math.sin(math.radians(360 - (self.angle + degree))))\n",
    "\n",
    "        while not self.is_out_of_bounds(x, y) and not self.is_collision((x, y)) and length < NeatCar.MAX_LENGTH:\n",
    "            length += 1\n",
    "            x = int(self.center[0] + length * math.cos(math.radians(360 - (self.angle + degree))))\n",
    "            y = int(self.center[1] + length * math.sin(math.radians(360 - (self.angle + degree))))\n",
    "\n",
    "        dist = int(pg.math.Vector2(x, y).distance_to(self.center))\n",
    "        self.radars.append([(x, y), dist])\n",
    "\n",
    "    def draw(self, screen):\n",
    "        super().draw(screen)\n",
    "        for r in self.radars:\n",
    "            pg.draw.line(screen, (0, 255, 0), self.center, r[0], 1)\n",
    "            pg.draw.circle(screen, (0, 255, 0), r[0], 5)\n",
    "\n",
    "    def update(self):\n",
    "        super().update()\n",
    "        self.radars.clear()\n",
    "        for d in range(-90, 120, 45):\n",
    "            self.check_radar(d)\n",
    "\n",
    "    def get_neat_data(self):\n",
    "        return [r[1] // 30 for r in self.radars] if len(self.radars) > 0 else [0, 0, 0, 0, 0]"
   ],
   "metadata": {
    "collapsed": false
   },
   "execution_count": 0
  },
  {
   "cell_type": "code",
   "outputs": [],
   "source": [
    "config = neat.config.Config(neat.DefaultGenome, neat.DefaultReproduction, neat.DefaultSpeciesSet,\n",
    "                            neat.DefaultStagnation, 'alg_neat/neat.config')\n",
    "\n",
    "population = neat.Population(config)\n",
    "population.add_reporter(neat.StdOutReporter(True))\n",
    "\n",
    "stats = neat.StatisticsReporter()\n",
    "population.add_reporter(stats)"
   ],
   "metadata": {
    "collapsed": false
   },
   "execution_count": 0
  },
  {
   "cell_type": "code",
   "outputs": [],
   "source": [
    "def run_simulation(genomes, config, map_path='tracks/track01.png', speed=20, full_screen=True):\n",
    "    networks = []\n",
    "    cars = []\n",
    "\n",
    "    pg.init()\n",
    "\n",
    "    my_track = Track(map_path)\n",
    "\n",
    "    screen = pg.display.set_mode((my_track.map_width, my_track.map_height),\n",
    "                                 (SCALED | RESIZABLE) if not full_screen else FULLSCREEN)\n",
    "    my_track.load_game_map()\n",
    "\n",
    "    clock = pg.time.Clock()\n",
    "\n",
    "    start_pos_x, start_pos_y, angle = my_track.start_pos\n",
    "\n",
    "    start_pos_y -= Car.CAR_SIZE_Y // 2\n",
    "\n",
    "    for _, g in genomes:\n",
    "        net = neat.nn.FeedForwardNetwork.create(g, config)\n",
    "        networks.append(net)\n",
    "        g.fitness = 0\n",
    "        cars.append(\n",
    "            NeatCar('cars/car2d.png', start_pos_x, start_pos_y, angle, speed, my_track.game_map, my_track.border_color,\n",
    "                    my_track.width, my_track.height))\n",
    "\n",
    "    font_generation = pg.font.SysFont(\"Arial\", 30)\n",
    "    font_alive = pg.font.SysFont(\"Arial\", 20)\n",
    "\n",
    "    global current_generation\n",
    "    current_generation += 1\n",
    "\n",
    "    timer = time.time()\n",
    "    MAX_TIME = 10\n",
    "\n",
    "    while True:\n",
    "        for event in pg.event.get():\n",
    "            if event.type == QUIT:\n",
    "                pg.quit()\n",
    "                sys.exit()\n",
    "\n",
    "        no_still_alive = 0\n",
    "\n",
    "        for i, car in enumerate(cars):\n",
    "            output = networks[i].activate(car.get_neat_data())\n",
    "            choice = output.index(max(output))\n",
    "\n",
    "            if choice == 0:\n",
    "                car.angle += 10  # Turn left\n",
    "            elif choice == 1:\n",
    "                car.angle -= 10  # Turn right\n",
    "            elif choice == 2:\n",
    "                if car.speed >= 10:\n",
    "                    car.speed -= 2  # Slow down\n",
    "            else:\n",
    "                car.speed += 2  # Speed up\n",
    "\n",
    "            if car.is_alive():\n",
    "                no_still_alive += 1\n",
    "                car.update()\n",
    "                genomes[i][1].fitness = car.get_reward()\n",
    "\n",
    "        if no_still_alive == 0 or time.time() - timer > MAX_TIME:\n",
    "            break\n",
    "\n",
    "        screen.blit(my_track.game_map, (0, 0))\n",
    "        for car in cars:\n",
    "            if car.is_alive():\n",
    "                car.draw(screen)\n",
    "\n",
    "        text_gen = font_generation.render(\"Generation: \" + str(current_generation), True, (0, 0, 0))\n",
    "        text_gen_rect = text_gen.get_rect()\n",
    "        text_gen_rect.center = (my_track.width // 2, my_track.height // 2)\n",
    "        screen.blit(text_gen, text_gen_rect)\n",
    "\n",
    "        text_alive = font_alive.render(\"Alive: \" + str(no_still_alive), True, (0, 0, 0))\n",
    "        text_alive_rect = text_alive.get_rect()\n",
    "        text_alive_rect.center = (my_track.width // 2, my_track.height // 2 + 50)\n",
    "        screen.blit(text_alive, text_alive_rect)\n",
    "\n",
    "        pg.display.flip()\n",
    "        clock.tick(60)\n",
    "\n",
    "    # pg.quit()\n",
    "\n",
    "\n",
    "current_generation = 0\n",
    "population.run(run_simulation, 10)\n",
    "pg.quit()"
   ],
   "metadata": {
    "collapsed": false
   },
   "execution_count": 0
  }
 ],
 "metadata": {
  "kernelspec": {
   "name": "f1_rl",
   "language": "python",
   "display_name": "Python3.11.exel"
  },
  "language_info": {
   "codemirror_mode": {
    "name": "ipython",
    "version": 3
   },
   "file_extension": ".py",
   "mimetype": "text/x-python",
   "name": "python",
   "nbconvert_exporter": "python",
   "pygments_lexer": "ipython3",
   "version": "3.10.12"
  }
 },
 "nbformat": 4,
 "nbformat_minor": 2
}
