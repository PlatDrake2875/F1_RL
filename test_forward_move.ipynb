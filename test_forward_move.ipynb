{
 "cells": [
  {
   "cell_type": "code",
   "execution_count": 13,
   "metadata": {},
   "outputs": [],
   "source": [
    "import sys\n",
    "\n",
    "import pygame as pg\n",
    "from pygame.locals import *\n",
    "\n",
    "from car import Car\n",
    "from track import Track"
   ]
  },
  {
   "cell_type": "code",
   "execution_count": 14,
   "metadata": {},
   "outputs": [],
   "source": [
    "class TestCar(Car):\n",
    "    pass"
   ]
  },
  {
   "cell_type": "code",
   "execution_count": 15,
   "metadata": {},
   "outputs": [
    {
     "ename": "SystemExit",
     "evalue": "",
     "output_type": "error",
     "traceback": [
      "An exception has occurred, use %tb to see the full traceback.\n",
      "\u001b[0;31mSystemExit\u001b[0m\n"
     ]
    }
   ],
   "source": [
    "def run_simulation(map_path='tracks/track01.png', speed = 10, full_screen = True):    \n",
    "    pg.init()\n",
    "    \n",
    "    my_track = Track(map_path)\n",
    "    \n",
    "    screen = pg.display.set_mode((my_track.map_width, my_track.map_height), (SCALED | RESIZABLE) if not full_screen else FULLSCREEN)\n",
    "    my_track.load_game_map()\n",
    "    \n",
    "    clock = pg.time.Clock()\n",
    "    \n",
    "    start_pos_x, start_pos_y, angle = my_track.start_pos\n",
    "    \n",
    "    start_pos_y -= TestCar.CAR_SIZE_Y // 2\n",
    "    \n",
    "    first_car = TestCar('cars/car2d.png', start_pos_x, start_pos_y, angle, speed, my_track.game_map, my_track.border_color, my_track.width, my_track.height)\n",
    "    \n",
    "    while True:\n",
    "        for event in pg.event.get():\n",
    "            if event.type == QUIT:\n",
    "                pg.quit()\n",
    "                sys.exit()\n",
    "                \n",
    "        first_car.update()\n",
    "        \n",
    "        screen.blit(my_track.game_map, (0, 0))\n",
    "        \n",
    "        if first_car.is_alive():\n",
    "            first_car.draw(screen)\n",
    "        else:\n",
    "            break\n",
    "        \n",
    "        first_car.angle = (first_car.angle + 7) if first_car.angle < 0 else (first_car.angle - 1)\n",
    "        \n",
    "        pg.display.flip()\n",
    "        clock.tick(60)\n",
    "    \n",
    "    while True:\n",
    "        pg.display.flip()\n",
    "        clock.tick(60)\n",
    "        first_car.draw(screen)\n",
    "        for event in pg.event.get():\n",
    "            if event.type == QUIT:\n",
    "                pg.quit()\n",
    "                sys.exit()\n",
    "    \n",
    "run_simulation()"
   ]
  }
 ],
 "metadata": {
  "kernelspec": {
   "display_name": "venv",
   "language": "python",
   "name": "python3"
  },
  "language_info": {
   "codemirror_mode": {
    "name": "ipython",
    "version": 3
   },
   "file_extension": ".py",
   "mimetype": "text/x-python",
   "name": "python",
   "nbconvert_exporter": "python",
   "pygments_lexer": "ipython3",
   "version": "3.10.12"
  }
 },
 "nbformat": 4,
 "nbformat_minor": 2
}
